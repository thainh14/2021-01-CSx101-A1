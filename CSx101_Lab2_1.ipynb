{
  "nbformat": 4,
  "nbformat_minor": 0,
  "metadata": {
    "colab": {
      "name": "CSx101.Lab2-1.ipynb",
      "provenance": [],
      "toc_visible": true,
      "include_colab_link": true
    },
    "kernelspec": {
      "name": "python3",
      "display_name": "Python 3"
    }
  },
  "cells": [
    {
      "cell_type": "markdown",
      "metadata": {
        "id": "view-in-github",
        "colab_type": "text"
      },
      "source": [
        "<a href=\"https://colab.research.google.com/github/thainh14/2021-01-CSx101-A1/blob/main/CSx101_Lab2_1.ipynb\" target=\"_parent\"><img src=\"https://colab.research.google.com/assets/colab-badge.svg\" alt=\"Open In Colab\"/></a>"
      ]
    },
    {
      "cell_type": "markdown",
      "metadata": {
        "id": "qYjoagGcuYmq"
      },
      "source": [
        "# CSx101 - TƯ DUY LẬP TRÌNH VỚI PYTHON\n",
        "\n",
        "Lớp 2021-01-CSx101-A1"
      ]
    },
    {
      "cell_type": "markdown",
      "metadata": {
        "id": "9CUHdHZe1Q2F"
      },
      "source": [
        "## Số lớn nhất - nhỏ nhất của dãy số\n",
        "\n",
        "Viết hàm trả về số lớn nhất, và số nhỏ nhất của một dãy số"
      ]
    },
    {
      "cell_type": "code",
      "metadata": {
        "id": "TkbfZkjWooLX",
        "outputId": "17851897-9fb9-417e-8d29-5949cd4b3e79",
        "colab": {
          "base_uri": "https://localhost:8080/"
        }
      },
      "source": [
        "def findMinMax(arr):\n",
        "  # code của bạn ở đây  \n",
        "  arr.sort() \n",
        "  return arr[0], arr[len(arr)-1]\n",
        "\n",
        "arr = [2, 3, 4, 6]\n",
        "min, max = findMinMax_(arr)\n",
        "print(min)\n",
        "print(max)\n",
        "\n",
        "# Kết quả "
      ],
      "execution_count": 16,
      "outputs": [
        {
          "output_type": "stream",
          "text": [
            "2\n",
            "6\n"
          ],
          "name": "stdout"
        }
      ]
    },
    {
      "cell_type": "markdown",
      "metadata": {
        "id": "nmHh7xWnhhp_"
      },
      "source": [
        "## Hoán đổi vị trí phần tử đầu và phần cuối của một dãy số\n",
        "\n",
        "Viết hoán đổi phần tử đầu và phần tử cuối của một dãy số\n",
        "\n",
        "Ví dụ:\n",
        "* Input: 1 2 3 4 5\n",
        "* Output: 5 2 3 4 1"
      ]
    },
    {
      "cell_type": "code",
      "metadata": {
        "id": "QfjAATq7zZLY",
        "colab": {
          "base_uri": "https://localhost:8080/"
        },
        "outputId": "d8d532a8-1af8-4457-d7fa-9ddf61d73c55"
      },
      "source": [
        "def swapList(arr):\n",
        "  # code của bạn ở đây\n",
        "  n = len(arr) \n",
        "\n",
        "  tmp = arr[0]  \n",
        "  arr[0] = arr[n-1] \n",
        "  arr[n-1] = tmp  \n",
        "\n",
        "  return arr\n",
        "\n",
        "arr = list(map(int, input().split()))\n",
        "print(swapList(arr))"
      ],
      "execution_count": 17,
      "outputs": [
        {
          "output_type": "stream",
          "text": [
            " 1 2 3 4 5\n",
            "[5, 2, 3, 4, 1]\n"
          ],
          "name": "stdout"
        }
      ]
    },
    {
      "cell_type": "markdown",
      "metadata": {
        "id": "leCn2xFwubkR"
      },
      "source": [
        "## Kiểm tra một phần tử có trong dãy số \n",
        "\n",
        "Viết hàm kiểm tra một phần tử có trong dãy số cho trước hay không\n",
        "\n",
        "Ví dụ:\n",
        "* Input: dãy số 1, 2, 3, 4, 5 và phần tử cần kiểm tra là 9\n",
        "* Output: False"
      ]
    },
    {
      "cell_type": "code",
      "metadata": {
        "id": "N2uyMnza1Bkc",
        "colab": {
          "base_uri": "https://localhost:8080/"
        },
        "outputId": "abac9b9a-996c-4d4c-c2fe-58b0bb03c72e"
      },
      "source": [
        "def checkNumberExist(x, arr):\n",
        "  # code của bạn ở đây\n",
        "  return x in arr\n",
        "\n",
        "arr = list(map(int, input().split(',')))\n",
        "x = int(input())\n",
        "print(checkNumberExist(x,arr))"
      ],
      "execution_count": 19,
      "outputs": [
        {
          "output_type": "stream",
          "text": [
            "1, 2, 3, 4, 5\n",
            "9\n",
            "False\n"
          ],
          "name": "stdout"
        }
      ]
    },
    {
      "cell_type": "markdown",
      "metadata": {
        "id": "mbBv-k2SkFVK"
      },
      "source": [
        "## Đảo ngược dãy số\n",
        "\n",
        "Viết hàm đảo ngược một dãy số\n",
        "\n",
        "Ví dụ: \n",
        "* Input: 1, 2, 3, 4, 5\n",
        "* Output: 5, 4, 3, 2, 1"
      ]
    },
    {
      "cell_type": "code",
      "metadata": {
        "id": "oz59rx9g1Fx6",
        "colab": {
          "base_uri": "https://localhost:8080/"
        },
        "outputId": "43eaa51d-f490-4480-da88-b1a04cf48235"
      },
      "source": [
        "def reverseList(arr):\n",
        "  # code của bạn ở đây\n",
        "  return arr[ : :-1]\n",
        "\n",
        "arr = list(map(int, input().split(',')))\n",
        "print(reverseList(arr))"
      ],
      "execution_count": 20,
      "outputs": [
        {
          "output_type": "stream",
          "text": [
            "1, 2, 3, 4, 5\n",
            "[5, 4, 3, 2, 1]\n"
          ],
          "name": "stdout"
        }
      ]
    },
    {
      "cell_type": "markdown",
      "metadata": {
        "id": "CMIVvurg2OiU"
      },
      "source": [
        "## Số nguyên tố của dãy số\n",
        "\n",
        "Viết hàm trả về các số nguyên tố của một dãy số\n",
        "\n",
        "Ví dụ:\n",
        "* Input: 3, 7, 11, 12, 15\n",
        "* Output: 3, 7, 11"
      ]
    },
    {
      "cell_type": "code",
      "metadata": {
        "id": "-3ZMFj3r2TgX",
        "colab": {
          "base_uri": "https://localhost:8080/"
        },
        "outputId": "5bcb8760-4264-45b7-8545-503d4b259064"
      },
      "source": [
        "def findPrimeNumbers(arr):\n",
        "  # code của bạn ở đây\n",
        "  listPrimeNumber = []\n",
        "  for num in arr:\n",
        "    count = 0\n",
        "    for i in range(1, num +1):\n",
        "      if num % i == 0:\n",
        "        count +=1\n",
        "    if count == 2:\n",
        "      listPrimeNumber.append(num)\n",
        "\n",
        "  return listPrimeNumber\n",
        "\n",
        "arr = list(map(int, input().split(',')))\n",
        "print(findPrimeNumbers(arr))"
      ],
      "execution_count": 23,
      "outputs": [
        {
          "output_type": "stream",
          "text": [
            " 3, 7, 11, 12, 15\n",
            "[3, 7, 11]\n"
          ],
          "name": "stdout"
        }
      ]
    },
    {
      "cell_type": "markdown",
      "metadata": {
        "id": "cCyfKs0q4h-X"
      },
      "source": [
        "## Đếm số lần xuất hiện của một phần tử trong dãy số\n",
        "\n",
        "Viết hàm đếm số lần xuất hiện của một phần tử trong dãy số\n",
        "\n",
        "Ví dụ:\n",
        "* Input: 1, 2, 4, 2, 6, 2, 5, 2 và 2\n",
        "* Output: 4 (số 2 xuất hiện 4 lần trong dãy số trên)\n"
      ]
    },
    {
      "cell_type": "code",
      "metadata": {
        "id": "1pfCY9w04nCN",
        "colab": {
          "base_uri": "https://localhost:8080/"
        },
        "outputId": "34ecc055-23f8-4444-f78c-e10d1b478409"
      },
      "source": [
        "def countOccurences(x, arr):\n",
        "  # code của bạn ở đây\n",
        "  return arr.count(x)\n",
        "\n",
        "arr = list(map(int, input().split(',')))\n",
        "x = int(input())\n",
        "print(countOccurences(x,arr))"
      ],
      "execution_count": 22,
      "outputs": [
        {
          "output_type": "stream",
          "text": [
            "1, 2, 4, 2, 6, 2, 5, 2\n",
            "2\n",
            "4\n"
          ],
          "name": "stdout"
        }
      ]
    },
    {
      "cell_type": "markdown",
      "metadata": {
        "id": "IQX-kblX6FFL"
      },
      "source": [
        "## Loại bỏ các phần tử trùng\n",
        "\n",
        "Viết hàm loại bỏ các phần tử trùng của một dãy cho trước. Dãy trả về bao gồm các phần tử chỉ xuất hiện một lần\n",
        "\n",
        "* Input: 10, 20, 30, 20, 20, 30, 40, 50, -20, 60, 60, -20, -20\n",
        "* Output: 20, 30, -20, 60\n"
      ]
    },
    {
      "cell_type": "code",
      "metadata": {
        "id": "9-pRgu5w6P3w",
        "outputId": "a2aa25d5-086c-4dec-ce79-fee8bb797aa8",
        "colab": {
          "base_uri": "https://localhost:8080/"
        }
      },
      "source": [
        "def removeDuplicates(arr):\n",
        "  # code của bạn ở đây\n",
        "  result = []\n",
        "  for num in arr:\n",
        "    if countOccurences(num, arr) == 1:\n",
        "      result.append(num)\n",
        "  return result\n",
        "\n",
        "arr = list(map(int, input().split(',')))\n",
        "print(removeDuplicates(arr))"
      ],
      "execution_count": 26,
      "outputs": [
        {
          "output_type": "stream",
          "text": [
            "10, 20, 30, 20, 20, 30, 40, 50, -20, 60, 60, -20, -20\n",
            "[10, 40, 50]\n"
          ],
          "name": "stdout"
        }
      ]
    },
    {
      "cell_type": "code",
      "metadata": {
        "id": "rGetioxTsYJ1",
        "outputId": "124aaf50-5a5e-4ebf-de96-839d5f41167f",
        "colab": {
          "base_uri": "https://localhost:8080/"
        }
      },
      "source": [
        "def removeDuplicates(arr):\n",
        "  # code của bạn ở đây\n",
        "  return list(set(arr))\n",
        "\n",
        "arr = list(map(int, input().split(',')))\n",
        "print(removeDuplicates(arr))"
      ],
      "execution_count": 27,
      "outputs": [
        {
          "output_type": "stream",
          "text": [
            "10, 20, 30, 20, 20, 30, 40, 50, -20, 60, 60, -20, -20\n",
            "[40, 10, -20, 50, 20, 60, 30]\n"
          ],
          "name": "stdout"
        }
      ]
    },
    {
      "cell_type": "code",
      "metadata": {
        "id": "k9rbR2FYyxEK",
        "outputId": "21cfbe01-3fa2-4741-a702-2b54ec1f6e06",
        "colab": {
          "base_uri": "https://localhost:8080/"
        }
      },
      "source": [
        "def removeDuplicates(n):\n",
        "  result = []\n",
        "  for i in arr:\n",
        "    if( result.count(i) == 0 ):\n",
        "      result.append(i)\n",
        "  return result\n",
        "\n",
        "arr = list(map(int, input().split(',')))\n",
        "print(removeDuplicates(arr))"
      ],
      "execution_count": 35,
      "outputs": [
        {
          "output_type": "stream",
          "text": [
            "10, 20, 30, 20, 20, 30, 40, 50, -20, 60, 60, -20, -20\n",
            "[10, 20, 30, 40, 50, -20, 60]\n"
          ],
          "name": "stdout"
        }
      ]
    },
    {
      "cell_type": "markdown",
      "metadata": {
        "id": "5A5TZTYJ2Kae"
      },
      "source": [
        "## Tìm N số lớn nhất trong dãy\n",
        "\n",
        "Viết hàm trả về N số lớn nhất trong dãy cho trước\n",
        "\n",
        "* Input: 4, 5, 1, 2, 9 và N=2\n",
        "* Output: 9, 5"
      ]
    },
    {
      "cell_type": "code",
      "metadata": {
        "id": "K2ydHtRR3ebu",
        "outputId": "c0df18f3-004d-4821-ebbb-beb73d709c0f",
        "colab": {
          "base_uri": "https://localhost:8080/"
        }
      },
      "source": [
        "def findNLargestElements(N, arr):\n",
        "  # code của bạn ở đây\n",
        "  arr.sort()  \n",
        "  result = []\n",
        " \n",
        "  for i in range(len(arr) -N, len(arr)):\n",
        "    result.append(arr[i])\n",
        "\n",
        "  return result\n",
        "  \n",
        "arr = list(map(int, input().split(',')))\n",
        "N = int(input())\n",
        "print(findNLargestElements(N, arr))"
      ],
      "execution_count": 39,
      "outputs": [
        {
          "output_type": "stream",
          "text": [
            "4, 5, 1, 2, 9\n",
            "2\n",
            "[5, 9]\n"
          ],
          "name": "stdout"
        }
      ]
    },
    {
      "cell_type": "code",
      "metadata": {
        "id": "mZ9uLXHlBPZv",
        "outputId": "f8d3cca6-b150-4ff8-c78b-7db1e4e3b339",
        "colab": {
          "base_uri": "https://localhost:8080/"
        }
      },
      "source": [
        "def findNLargestElements(N, arr):\n",
        "  # code của bạn ở đây\n",
        "  arr.sort(reverse=True)\n",
        "  return arr[:N]\n",
        "  \n",
        "arr = list(map(int, input().split(',')))\n",
        "N = int(input())\n",
        "print(findNLargestElements(N, arr))"
      ],
      "execution_count": 51,
      "outputs": [
        {
          "output_type": "stream",
          "text": [
            "4, 5, 1, 2, 9\n",
            "2\n",
            "[9, 5]\n"
          ],
          "name": "stdout"
        }
      ]
    },
    {
      "cell_type": "markdown",
      "metadata": {
        "id": "xXSKpzjJ2Wt4"
      },
      "source": [
        "## Tính tổng tích luỹ\n",
        "\n",
        "Viết hàm tính tổng tích luỹ của một dãy. \n",
        "\n",
        "Phần tử thứ $i$ của dãy đầu ra bằng tổng các phần tử $i, i-1, i-2, ...$ của dãy đầu vào\n",
        "\n",
        "* Input: 10, 20, 30, 40, 50\n",
        "* Output: 10, 30, 60, 100, 150"
      ]
    },
    {
      "cell_type": "code",
      "metadata": {
        "id": "RfQ2N2Ty3oLy",
        "outputId": "c16bfd54-21d3-46f1-d25c-df4bc0b922db",
        "colab": {
          "base_uri": "https://localhost:8080/"
        }
      },
      "source": [
        "def calcCumulativeSum(N, arr):\n",
        "  # code của bạn ở đây\n",
        "  result = []\n",
        "  for num in arr:\n",
        "    if len(result) == 0:\n",
        "      result.append(num)\n",
        "    else:\n",
        "      result.append(num + result[len(result) - 1])      \n",
        "  return result\n",
        "\n",
        "arr = list(map(int, input().split(',')))\n",
        "N = int(input())\n",
        "print(calcCumulativeSum(N, arr))\n"
      ],
      "execution_count": 46,
      "outputs": [
        {
          "output_type": "stream",
          "text": [
            "10, 20, 30, 40, 50\n",
            "5\n",
            "[10, 30, 60, 100, 150]\n"
          ],
          "name": "stdout"
        }
      ]
    },
    {
      "cell_type": "code",
      "metadata": {
        "id": "OYbgA5WwAPLb",
        "outputId": "b44df46c-2bd9-473d-872b-aa6c46a8b566",
        "colab": {
          "base_uri": "https://localhost:8080/"
        }
      },
      "source": [
        "def calcCumulativeSum(N, arr):\n",
        "  # code của bạn ở đây\n",
        "  result = []\n",
        "  result.append(arr[0])\n",
        "  for i in range(1, len(arr)):\n",
        "   result.append(result[i-1] + arr[i])\n",
        "  return result\n",
        "\n",
        "arr = list(map(int, input().split(',')))\n",
        "N = int(input())\n",
        "print(calcCumulativeSum(N, arr))"
      ],
      "execution_count": 50,
      "outputs": [
        {
          "output_type": "stream",
          "text": [
            "10, 20, 30, 40, 50\n",
            "5\n",
            "[10, 30, 60, 100, 150]\n"
          ],
          "name": "stdout"
        }
      ]
    },
    {
      "cell_type": "markdown",
      "metadata": {
        "id": "a72UHNxW3OmA"
      },
      "source": [
        "## Xoá một số phần tử của dãy\n",
        "\n",
        "Viết hàm xoá một số phần tử của dãy\n",
        "\n",
        "* Input: 12, 15, 3, 10 và 12 và 3 là các phần tử cần xoá\n",
        "* Output: 15, 10"
      ]
    },
    {
      "cell_type": "code",
      "metadata": {
        "id": "PkwKGvI74AHU",
        "outputId": "a970a626-af92-4b64-e346-2ea495cdd77c",
        "colab": {
          "base_uri": "https://localhost:8080/"
        }
      },
      "source": [
        "def removeElemetns(arrInput, arrRemove):\n",
        "  # code của bạn ở đây\n",
        "  for num in arrRemove:\n",
        "    arrInput.remove(num)\n",
        "  return arrInput\n",
        "\n",
        "arrInput = list(map(int, input().split(',')))\n",
        "arrRemove = list(map(int, input().split(',')))\n",
        "print(removeElemetns(arrInput, arrRemove))"
      ],
      "execution_count": 49,
      "outputs": [
        {
          "output_type": "stream",
          "text": [
            "12, 15, 3, 10\n",
            "12, 3\n",
            "[15, 10]\n"
          ],
          "name": "stdout"
        }
      ]
    }
  ]
}