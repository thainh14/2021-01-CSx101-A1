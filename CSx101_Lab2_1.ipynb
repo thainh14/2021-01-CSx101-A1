{
  "nbformat": 4,
  "nbformat_minor": 0,
  "metadata": {
    "colab": {
      "name": "CSx101.Lab2-1.ipynb",
      "provenance": [],
      "toc_visible": true,
      "include_colab_link": true
    },
    "kernelspec": {
      "name": "python3",
      "display_name": "Python 3"
    }
  },
  "cells": [
    {
      "cell_type": "markdown",
      "metadata": {
        "id": "view-in-github",
        "colab_type": "text"
      },
      "source": [
        "<a href=\"https://colab.research.google.com/github/thainh14/2021-01-CSx101-A1/blob/main/CSx101_Lab2_1.ipynb\" target=\"_parent\"><img src=\"https://colab.research.google.com/assets/colab-badge.svg\" alt=\"Open In Colab\"/></a>"
      ]
    },
    {
      "cell_type": "markdown",
      "metadata": {
        "id": "qYjoagGcuYmq"
      },
      "source": [
        "# CSx101 - TƯ DUY LẬP TRÌNH VỚI PYTHON\n",
        "\n",
        "Lớp 2021-01-CSx101-A1"
      ]
    },
    {
      "cell_type": "markdown",
      "metadata": {
        "id": "9CUHdHZe1Q2F"
      },
      "source": [
        "## Số lớn nhất - nhỏ nhất của dãy số\n",
        "\n",
        "Viết hàm trả về số lớn nhất, và số nhỏ nhất của một dãy số"
      ]
    },
    {
      "cell_type": "code",
      "metadata": {
        "id": "Rk-3yHVazWf6",
        "outputId": "7e6e0160-d884-4ef6-a59e-3025e1c2e572",
        "colab": {
          "base_uri": "https://localhost:8080/"
        }
      },
      "source": [
        "def findMinMax(arr):\n",
        "  # code của bạn ở đây  \n",
        "  min_arr = min(arr)\n",
        "  max_arr = max(arr)\n",
        "  return min_arr, max_arr\n",
        "\n",
        "arr = [2, 3, 4, 6]\n",
        "\n",
        "min, max = findMinMax(arr)\n",
        "print(min)\n",
        "print(max)\n",
        "\n",
        "# Kết quả "
      ],
      "execution_count": 2,
      "outputs": [
        {
          "output_type": "stream",
          "text": [
            "2\n",
            "6\n"
          ],
          "name": "stdout"
        }
      ]
    },
    {
      "cell_type": "markdown",
      "metadata": {
        "id": "nmHh7xWnhhp_"
      },
      "source": [
        "## Hoán đổi vị trí phần tử đầu và phần cuối của một dãy số\n",
        "\n",
        "Viết hoán đổi phần tử đầu và phần tử cuối của một dãy số\n",
        "\n",
        "Ví dụ:\n",
        "* Input: 1 2 3 4 5\n",
        "* Output: 5 2 3 4 1"
      ]
    },
    {
      "cell_type": "code",
      "metadata": {
        "id": "QfjAATq7zZLY",
        "outputId": "864a3904-2011-4f7c-bf8f-a4f428ca7c07",
        "colab": {
          "base_uri": "https://localhost:8080/"
        }
      },
      "source": [
        "def swapList(arr):\n",
        "  # code của bạn ở đây\n",
        "  n = len(arr) \n",
        "\n",
        "  tmp = arr[0]  \n",
        "  arr[0] = arr[n-1] \n",
        "  arr[n-1] = tmp  \n",
        "\n",
        "  return arr\n",
        "\n",
        "arr = list(map(int, input().split()))\n",
        "print(swapList(arr))"
      ],
      "execution_count": 11,
      "outputs": [
        {
          "output_type": "stream",
          "text": [
            "1 2 3 4 5\n",
            "[5, 2, 3, 4, 1]\n"
          ],
          "name": "stdout"
        }
      ]
    },
    {
      "cell_type": "markdown",
      "metadata": {
        "id": "leCn2xFwubkR"
      },
      "source": [
        "## Kiểm tra một phần tử có trong dãy số \n",
        "\n",
        "Viết hàm kiểm tra một phần tử có trong dãy số cho trước hay không\n",
        "\n",
        "Ví dụ:\n",
        "* Input: dãy số 1, 2, 3, 4, 5 và phần tử cần kiểm tra là 9\n",
        "* Output: False"
      ]
    },
    {
      "cell_type": "code",
      "metadata": {
        "id": "N2uyMnza1Bkc",
        "outputId": "ed818620-f04e-48cf-decc-8e8f11ce8613",
        "colab": {
          "base_uri": "https://localhost:8080/"
        }
      },
      "source": [
        "def checkNumberExist(x, arr):\n",
        "  # code của bạn ở đây\n",
        "  return x in arr\n",
        "\n",
        "arr = list(map(int, input().split(',')))\n",
        "x = int(input())\n",
        "print(checkNumberExist(x,arr))"
      ],
      "execution_count": 40,
      "outputs": [
        {
          "output_type": "stream",
          "text": [
            "1, 2, 3, 4, 5\n",
            "9\n",
            "False\n"
          ],
          "name": "stdout"
        }
      ]
    },
    {
      "cell_type": "markdown",
      "metadata": {
        "id": "mbBv-k2SkFVK"
      },
      "source": [
        "## Đảo ngược dãy số\n",
        "\n",
        "Viết hàm đảo ngược một dãy số\n",
        "\n",
        "Ví dụ: \n",
        "* Input: 1, 2, 3, 4, 5\n",
        "* Output: 5, 4, 3, 2, 1"
      ]
    },
    {
      "cell_type": "code",
      "metadata": {
        "id": "oz59rx9g1Fx6",
        "outputId": "b38640c7-68e5-43bd-f9f7-5cc147d694fd",
        "colab": {
          "base_uri": "https://localhost:8080/"
        }
      },
      "source": [
        "def reverseList(arr):\n",
        "  # code của bạn ở đây\n",
        "  return arr[ : :-1]\n",
        "\n",
        "arr = list(map(int, input().split(',')))\n",
        "print(reverseList(arr))"
      ],
      "execution_count": 35,
      "outputs": [
        {
          "output_type": "stream",
          "text": [
            "1, 2, 3, 4, 5\n",
            "[5, 4, 3, 2, 1]\n"
          ],
          "name": "stdout"
        }
      ]
    },
    {
      "cell_type": "markdown",
      "metadata": {
        "id": "CMIVvurg2OiU"
      },
      "source": [
        "## Số nguyên tố của dãy số\n",
        "\n",
        "Viết hàm trả về các số nguyên tố của một dãy số\n",
        "\n",
        "Ví dụ:\n",
        "* Input: 3, 7, 11, 12, 15\n",
        "* Output: 3, 7, 11"
      ]
    },
    {
      "cell_type": "code",
      "metadata": {
        "id": "-3ZMFj3r2TgX",
        "outputId": "8e87c9c5-45d9-44da-dbe8-60840e45eade",
        "colab": {
          "base_uri": "https://localhost:8080/"
        }
      },
      "source": [
        "def findPrimeNumbers(arr):\n",
        "  # code của bạn ở đây\n",
        "  listPrimeNumber = []\n",
        "  for i in range(len(arr)):\n",
        "    count = 0\n",
        "    for j in range(1, arr[i] +1):\n",
        "      if arr[i] % j == 0:\n",
        "        count +=1\n",
        "    if count == 2:\n",
        "      listPrimeNumber.append(arr[i])\n",
        "\n",
        "  return listPrimeNumber\n",
        "\n",
        "arr = list(map(int, input().split(',')))\n",
        "print(findPrimeNumbers(arr))"
      ],
      "execution_count": 44,
      "outputs": [
        {
          "output_type": "stream",
          "text": [
            "3, 7, 11, 12, 15\n",
            "[3, 7, 11]\n"
          ],
          "name": "stdout"
        }
      ]
    },
    {
      "cell_type": "markdown",
      "metadata": {
        "id": "cCyfKs0q4h-X"
      },
      "source": [
        "## Đếm số lần xuất hiện của một phần tử trong dãy số\n",
        "\n",
        "Viết hàm đếm số lần xuất hiện của một phần tử trong dãy số\n",
        "\n",
        "Ví dụ:\n",
        "* Input: 1, 2, 4, 2, 6, 2, 5, 2 và 2\n",
        "* Output: 4 (số 2 xuất hiện 4 lần trong dãy số trên)\n"
      ]
    },
    {
      "cell_type": "code",
      "metadata": {
        "id": "1pfCY9w04nCN",
        "outputId": "a3778f9a-463d-4526-f8d5-00e3fcab9519",
        "colab": {
          "base_uri": "https://localhost:8080/"
        }
      },
      "source": [
        "def countOccurences(x, arr):\n",
        "  # code của bạn ở đây\n",
        "  return arr.count(x)\n",
        "\n",
        "arr = list(map(int, input().split(',')))\n",
        "x = int(input())\n",
        "print(countOccurences(x,arr))"
      ],
      "execution_count": 45,
      "outputs": [
        {
          "output_type": "stream",
          "text": [
            "1, 2, 4, 2, 6, 2, 5, 2 \n",
            "2\n",
            "4\n"
          ],
          "name": "stdout"
        }
      ]
    },
    {
      "cell_type": "markdown",
      "metadata": {
        "id": "IQX-kblX6FFL"
      },
      "source": [
        "## Loại bỏ các phần tử trùng\n",
        "\n",
        "Viết hàm loại bỏ các phần tử trùng của một dãy cho trước. Dãy trả về bao gồm các phần tử chỉ xuất hiện một lần\n",
        "\n",
        "* Input: 10, 20, 30, 20, 20, 30, 40, 50, -20, 60, 60, -20, -20\n",
        "* Output: 20, 30, -20, 60\n"
      ]
    },
    {
      "cell_type": "code",
      "metadata": {
        "id": "9-pRgu5w6P3w"
      },
      "source": [
        "def removeDuplicates(n):\n",
        "  # code của bạn ở đây\n",
        " "
      ],
      "execution_count": null,
      "outputs": []
    },
    {
      "cell_type": "markdown",
      "metadata": {
        "id": "5A5TZTYJ2Kae"
      },
      "source": [
        "## Tìm N số lớn nhất trong dãy\n",
        "\n",
        "Viết hàm trả về N số lớn nhất trong dãy cho trước\n",
        "\n",
        "* Input: 4, 5, 1, 2, 9 và N=2\n",
        "* Output: 9, 5"
      ]
    },
    {
      "cell_type": "code",
      "metadata": {
        "id": "K2ydHtRR3ebu"
      },
      "source": [
        "def findNLargestElements(N, arr):\n",
        "  # code của bạn ở đây"
      ],
      "execution_count": null,
      "outputs": []
    },
    {
      "cell_type": "markdown",
      "metadata": {
        "id": "xXSKpzjJ2Wt4"
      },
      "source": [
        "## Tính tổng tích luỹ\n",
        "\n",
        "Viết hàm tính tổng tích luỹ của một dãy. \n",
        "\n",
        "Phần tử thứ $i$ của dãy đầu ra bằng tổng các phần tử $i, i-1, i-2, ...$ của dãy đầu vào\n",
        "\n",
        "* Input: 10, 20, 30, 40, 50\n",
        "* Output: 10, 30, 60, 100, 150"
      ]
    },
    {
      "cell_type": "code",
      "metadata": {
        "id": "RfQ2N2Ty3oLy"
      },
      "source": [
        "def calcCumulativeSum(N, arr):\n",
        "  # code của bạn ở đây"
      ],
      "execution_count": null,
      "outputs": []
    },
    {
      "cell_type": "markdown",
      "metadata": {
        "id": "a72UHNxW3OmA"
      },
      "source": [
        "## Xoá một số phần tử của dãy\n",
        "\n",
        "Viết hàm xoá một số phần tử của dãy\n",
        "\n",
        "* Input: 12, 15, 3, 10 và 12 và 3 là các phần tử cần xoá\n",
        "* Output: 15, 10"
      ]
    },
    {
      "cell_type": "code",
      "metadata": {
        "id": "PkwKGvI74AHU"
      },
      "source": [
        "def removeElemetns(arrInput, arrRemove):\n",
        "  # code của bạn ở đây"
      ],
      "execution_count": null,
      "outputs": []
    }
  ]
}